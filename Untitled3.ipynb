{
 "cells": [
  {
   "cell_type": "code",
   "execution_count": null,
   "id": "7273fa80-2523-406a-a01e-1d76f6fadb57",
   "metadata": {},
   "outputs": [],
   "source": [
    "#Q1. Explain Class and Object with respect to Object-Oriented Programming. Give a suitable example.\n",
    "#Q2. Name the four pillars of OOPs.\n",
    "#Q3. Explain why the __init__() function is used. Give a suitable example.\n",
    "#Q4. Why self is used in OOPs?\n",
    "#Q5. What is inheritance? Give an example for each type of inheritance.\n",
    "#Note: Create your assignment in Jupyter notebook and upload it to GitHub & share that GitHub repository\n",
    "\n",
    "'''ANS(1)=class is the blueprint ans object is the instsnce of the class. object is also called instance variable'''\n",
    "\n",
    "\n",
    "class Vehicle:\n",
    "    def __init__(self,name,price,brand)\n",
    "    self.name=name\n",
    "    self.price=price\n",
    "    self.brand=brand\n",
    "    \n",
    "bus=Vehicle('schoolbus',1000000,tata)\n",
    "\n",
    "'''here Vehicle is the class and bus is the object or the instance of class'''\n",
    "\n",
    "\n",
    "'''Ans(2) inheritance ,abstraction,polymprphism,encapsulation'''\n",
    "\n",
    "\n",
    "'''Ans(3) the __init__() is the constructor that intialses the value '''\n",
    "class Vehicle:\n",
    "    def __init__(self,name,price,brand)\n",
    "    self.name=name\n",
    "    self.price=price\n",
    "    self.brand=brand\n",
    "    \n",
    "bus=Vehicle('schoolbus',1000000,tata)\n",
    "\n",
    "'''when the bus object is made then it initalises the value of the  name price and the brand'''\n",
    "\n",
    "\n",
    "\n",
    "'''ans(4) the self is the keyword that initalises the value of variable'''\n",
    "\n",
    "\n",
    "'''Q5. What is inheritance? Give an example for each type of inheritance.\n",
    "\n",
    "ans inheraitance is the property in which the child class inherits the propetry of the parent class\n",
    "here is type of the inheritance\n",
    "\n",
    "\n"
   ]
  },
  {
   "cell_type": "code",
   "execution_count": null,
   "id": "82c6511a-0acf-479b-9704-d641777767ab",
   "metadata": {},
   "outputs": [],
   "source": []
  },
  {
   "cell_type": "code",
   "execution_count": 19,
   "id": "f340d8a7-2a6a-4a40-8fcd-4eab2f7a60e4",
   "metadata": {},
   "outputs": [
    {
     "name": "stdout",
     "output_type": "stream",
     "text": [
      "my method name is bud\n",
      "wagnor 500000 maruti\n"
     ]
    }
   ],
   "source": [
    "'''single level inheritance'''\n",
    "class Vehicle:\n",
    "    def __init__ (self, name, price, brand):\n",
    "        self.name = name\n",
    "        self.price = price\n",
    "        self.brand = brand\n",
    "        \n",
    "    def print_info(self):\n",
    "        print('my method name is print_info')\n",
    "              \n",
    "class Bud(Vehicle):\n",
    "    def print_info(self):\n",
    "        print('my method name is bud')\n",
    "          \n",
    "obj1 = Bud('wagnor',500000,'maruti')\n",
    "obj1.print_info()\n",
    "print(obj1.name,obj1.price,obj1.brand)\n"
   ]
  },
  {
   "cell_type": "code",
   "execution_count": 23,
   "id": "8c4196fc-d01a-4bc3-8ed6-9717612d1ee4",
   "metadata": {},
   "outputs": [
    {
     "name": "stdout",
     "output_type": "stream",
     "text": [
      "my color of vehicle is red\n",
      "wagnor 500000 maruti\n"
     ]
    }
   ],
   "source": [
    "'''MULTIPLE  inheritance'''\n",
    "class Vehicle:\n",
    "    def __init__ (self, name, price, brand):\n",
    "        self.name = name\n",
    "        self.price = price\n",
    "        self.brand = brand\n",
    "        \n",
    "    def print_info(self):\n",
    "        print('my method name is print_info')\n",
    "              \n",
    "class Bud():\n",
    "    def print_info(self):\n",
    "        print('my method name is bud')\n",
    "        \n",
    "class VehicleColor(Vehicle,Bud):\n",
    "    def print_info(self):\n",
    "        print('my color of vehicle is red')        \n",
    "          \n",
    "obj1 = VehicleColor('wagnor',500000,'maruti')\n",
    "obj1.print_info()\n",
    "print(obj1.name,obj1.price,obj1.brand)\n"
   ]
  },
  {
   "cell_type": "code",
   "execution_count": 26,
   "id": "7c0259c6-47e6-47c0-9b2b-a83765af5194",
   "metadata": {},
   "outputs": [
    {
     "name": "stdout",
     "output_type": "stream",
     "text": [
      "my color of vehicle is red\n",
      "wagnor 500000 maruti\n",
      "my method name is bud\n"
     ]
    }
   ],
   "source": [
    "'''MULTILEVEL   inheritance'''\n",
    "class Vehicle:\n",
    "    def __init__ (self, name, price, brand):\n",
    "        self.name = name\n",
    "        self.price = price\n",
    "        self.brand = brand\n",
    "        \n",
    "    def print_info(self):\n",
    "        print('my method name is print_info')\n",
    "              \n",
    "class Bud(Vehicle):\n",
    "    def print_about(self):\n",
    "        print('my method name is bud')\n",
    "        \n",
    "class VehicleColor(Bud):\n",
    "    def print_info(self):\n",
    "        print('my color of vehicle is red')        \n",
    "          \n",
    "obj1 = VehicleColor('wagnor',500000,'maruti')\n",
    "obj1.print_info()\n",
    "print(obj1.name,obj1.price,obj1.brand)\n",
    "obj1.print_about()\n"
   ]
  },
  {
   "cell_type": "code",
   "execution_count": 32,
   "id": "175c986d-9527-4177-b3ce-741c8d89cf23",
   "metadata": {},
   "outputs": [
    {
     "name": "stdout",
     "output_type": "stream",
     "text": [
      "my method name is print_info\n",
      "my color of vehicle is red\n"
     ]
    },
    {
     "data": {
      "text/plain": [
       "'in hierachial inhritance first method is found at the same hierarchy'"
      ]
     },
     "execution_count": 32,
     "metadata": {},
     "output_type": "execute_result"
    }
   ],
   "source": [
    "'''hierachial inheritance'''\n",
    "\n",
    "'''MULTILEVEL   inheritance'''\n",
    "class Vehicle:\n",
    "    def __init__ (self, name, price, brand):\n",
    "        self.name = name\n",
    "        self.price = price\n",
    "        self.brand = brand\n",
    "        \n",
    "    def print_infor(self):\n",
    "        print('my method name is print_info')\n",
    "              \n",
    "class Bud(Vehicle):\n",
    "    def print_about(self):\n",
    "        print('my method name is bud')\n",
    "        \n",
    "class VehicleColor(Vehicle):\n",
    "    def print_info(self):\n",
    "        print('my color of vehicle is red')        \n",
    "          \n",
    "obj1 = VehicleColor('wagnor',500000,'maruti')\n",
    "obj1.print_infor()\n",
    "obj2 = Bud('celero',500000,'maruti')\n",
    "obj1.print_info()\n",
    "\n",
    "'''in hierachial inhritance first method is found at the same hierarchy'''\n"
   ]
  },
  {
   "cell_type": "code",
   "execution_count": 37,
   "id": "0c382ab9-5d29-4cfe-8ac5-4be9b4d1ce37",
   "metadata": {},
   "outputs": [
    {
     "name": "stdout",
     "output_type": "stream",
     "text": [
      "my method name is print_info\n",
      "my color of vehicle is red\n"
     ]
    }
   ],
   "source": [
    "'''hybrid inheritance'''\n",
    "\n",
    "\n",
    "class Vehicle:\n",
    "    def __init__ (self, name, price, brand):\n",
    "        self.name = name\n",
    "        self.price = price\n",
    "        self.brand = brand\n",
    "        \n",
    "    def print_infor(self):\n",
    "        print('my method name is print_info')\n",
    "              \n",
    "class Bud(Vehicle):\n",
    "    def print_about(self):\n",
    "        print('my method name is bud')\n",
    "        \n",
    "class VehicleColor(Vehicle):\n",
    "    def print_info(self):\n",
    "        print('my color of vehicle is red') \n",
    "        \n",
    "        \n",
    "class VehicleStatus(Bud,VehicleColor):\n",
    "    def print_info(self):\n",
    "        print('my color of vehicle is red') \n",
    "          \n",
    "obj1 = VehicleColor('wagnor',500000,'maruti')\n",
    "obj1.print_infor()\n",
    "obj2 = Bud('celero',500000,'maruti')\n",
    "obj1.print_info()\n",
    "\n"
   ]
  },
  {
   "cell_type": "code",
   "execution_count": null,
   "id": "c817a08f-9dd5-47ba-89f3-06dfc1cd56eb",
   "metadata": {},
   "outputs": [],
   "source": []
  }
 ],
 "metadata": {
  "kernelspec": {
   "display_name": "Python 3 (ipykernel)",
   "language": "python",
   "name": "python3"
  },
  "language_info": {
   "codemirror_mode": {
    "name": "ipython",
    "version": 3
   },
   "file_extension": ".py",
   "mimetype": "text/x-python",
   "name": "python",
   "nbconvert_exporter": "python",
   "pygments_lexer": "ipython3",
   "version": "3.10.8"
  }
 },
 "nbformat": 4,
 "nbformat_minor": 5
}
